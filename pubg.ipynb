{
  "nbformat": 4,
  "nbformat_minor": 0,
  "metadata": {
    "colab": {
      "name": "pubg.ipynb",
      "provenance": [],
      "collapsed_sections": [],
      "authorship_tag": "ABX9TyOL5piVqAwE7sioWOe31QS3",
      "include_colab_link": true
    },
    "kernelspec": {
      "name": "python3",
      "display_name": "Python 3"
    }
  },
  "cells": [
    {
      "cell_type": "markdown",
      "metadata": {
        "id": "view-in-github",
        "colab_type": "text"
      },
      "source": [
        "<a href=\"https://colab.research.google.com/github/princeedey/PUBG/blob/master/pubg.ipynb\" target=\"_parent\"><img src=\"https://colab.research.google.com/assets/colab-badge.svg\" alt=\"Open In Colab\"/></a>"
      ]
    },
    {
      "cell_type": "code",
      "metadata": {
        "id": "pSJ-Eom8TX0Q",
        "colab_type": "code",
        "outputId": "1a87aba8-ca18-41f8-bf9b-dd9ab5352d03",
        "colab": {
          "base_uri": "https://localhost:8080/",
          "height": 122
        }
      },
      "source": [
        "from google.colab import drive\n",
        "drive.mount('/content/gdrive')"
      ],
      "execution_count": 1,
      "outputs": [
        {
          "output_type": "stream",
          "text": [
            "Go to this URL in a browser: https://accounts.google.com/o/oauth2/auth?client_id=947318989803-6bn6qk8qdgf4n4g3pfee6491hc0brc4i.apps.googleusercontent.com&redirect_uri=urn%3aietf%3awg%3aoauth%3a2.0%3aoob&response_type=code&scope=email%20https%3a%2f%2fwww.googleapis.com%2fauth%2fdocs.test%20https%3a%2f%2fwww.googleapis.com%2fauth%2fdrive%20https%3a%2f%2fwww.googleapis.com%2fauth%2fdrive.photos.readonly%20https%3a%2f%2fwww.googleapis.com%2fauth%2fpeopleapi.readonly\n",
            "\n",
            "Enter your authorization code:\n",
            "··········\n",
            "Mounted at /content/gdrive\n"
          ],
          "name": "stdout"
        }
      ]
    },
    {
      "cell_type": "code",
      "metadata": {
        "id": "XaNxr_QIN98b",
        "colab_type": "code",
        "colab": {
          "base_uri": "https://localhost:8080/",
          "height": 71
        },
        "outputId": "17f3713d-829c-4145-b353-6c4ac8b1b1c6"
      },
      "source": [
        "\n",
        "##Importing necessary packages for the program\n",
        "\n",
        "from sklearn_pandas import DataFrameMapper\n",
        "from sklearn.preprocessing import LabelEncoder, StandardScaler\n",
        "from sklearn.ensemble import forest\n",
        "from sklearn.tree import export_graphviz\n",
        "from pandas.api.types import is_string_dtype, is_numeric_dtype\n",
        "\n",
        "#Unable to import fastai module. So directly imported it from the link given below.\n",
        "# https://github.com/anandsaha/fastai.part1.v2/blob/master/fastai/structured.py\n",
        "\n",
        "def get_sample(df,n):\n",
        "    idxs = sorted(np.random.permutation(len(df))[:n])\n",
        "    return df.iloc[idxs].copy()\n",
        "\n",
        "def proc_df(df, y_fld, skip_flds=None, do_scale=False, na_dict=None,\n",
        "            preproc_fn=None, max_n_cat=None, subset=None, mapper=None):\n",
        "    if not skip_flds: skip_flds=[]\n",
        "    if subset: df = get_sample(df,subset)\n",
        "    df = df.copy()\n",
        "    if preproc_fn: preproc_fn(df)\n",
        "    y = df[y_fld].values\n",
        "    df.drop(skip_flds+[y_fld], axis=1, inplace=True)\n",
        "\n",
        "    if na_dict is None: na_dict = {}\n",
        "    for n,c in df.items(): na_dict = fix_missing(df, c, n, na_dict)\n",
        "    if do_scale: mapper = scale_vars(df, mapper)\n",
        "    for n,c in df.items(): numericalize(df, c, n, max_n_cat)\n",
        "    res = [pd.get_dummies(df, dummy_na=True), y, na_dict]\n",
        "    if do_scale: res = res + [mapper]\n",
        "    return res\n",
        "\n",
        "def rf_feat_importance(m, df):\n",
        "    return pd.DataFrame({'cols':df.columns, 'imp':m.feature_importances_}\n",
        "                       ).sort_values('imp', ascending=False)\n",
        "\n",
        "def set_rf_samples(n):\n",
        "    \n",
        "    forest._generate_sample_indices = (lambda rs, n_samples:\n",
        "        forest.check_random_state(rs).randint(0, n_samples, n))\n",
        "\n",
        "def reset_rf_samples():\n",
        "  \n",
        "    forest._generate_sample_indices = (lambda rs, n_samples:\n",
        "        forest.check_random_state(rs).randint(0, n_samples, n_samples))"
      ],
      "execution_count": 2,
      "outputs": [
        {
          "output_type": "stream",
          "text": [
            "/usr/local/lib/python3.6/dist-packages/sklearn/utils/deprecation.py:144: FutureWarning: The sklearn.ensemble.forest module is  deprecated in version 0.22 and will be removed in version 0.24. The corresponding classes / functions should instead be imported from sklearn.ensemble. Anything that cannot be imported from sklearn.ensemble is now part of the private API.\n",
            "  warnings.warn(message, FutureWarning)\n"
          ],
          "name": "stderr"
        }
      ]
    },
    {
      "cell_type": "code",
      "metadata": {
        "id": "bDbosHSCO82w",
        "colab_type": "code",
        "outputId": "312665ff-de4f-45b8-e52d-9331f5a61f4f",
        "colab": {
          "base_uri": "https://localhost:8080/",
          "height": 462
        }
      },
      "source": [
        "# For autoreloading modules\n",
        "%load_ext autoreload\n",
        "%autoreload 2\n",
        "\n",
        "# For notebook plotting\n",
        "%matplotlib inline\n",
        "\n",
        "# Standard libraries\n",
        "import os\n",
        "import numpy as np\n",
        "import pandas as pd\n",
        "!pip install PDPbox\n",
        "import matplotlib.pyplot as plt\n",
        "import seaborn as sns\n",
        "from pdpbox import pdp\n",
        "from plotnine import *\n",
        "from sklearn.ensemble import RandomForestRegressor\n",
        "from IPython.display import display\n",
        "import sklearn\n",
        "from sklearn import metrics\n",
        "from scipy.cluster import hierarchy as hc\n",
        "from fastai.imports import *\n",
        "\n",
        "#Reading the data\n",
        "train=pd.read_csv('gdrive/My Drive/train_V2.csv')\n",
        "test=pd.read_csv('gdrive/My Drive/test_V2.csv')"
      ],
      "execution_count": 3,
      "outputs": [
        {
          "output_type": "stream",
          "text": [
            "Collecting PDPbox\n",
            "\u001b[?25l  Downloading https://files.pythonhosted.org/packages/87/23/ac7da5ba1c6c03a87c412e7e7b6e91a10d6ecf4474906c3e736f93940d49/PDPbox-0.2.0.tar.gz (57.7MB)\n",
            "\u001b[K     |████████████████████████████████| 57.7MB 73kB/s \n",
            "\u001b[?25hRequirement already satisfied: pandas in /usr/local/lib/python3.6/dist-packages (from PDPbox) (1.0.4)\n",
            "Requirement already satisfied: numpy in /usr/local/lib/python3.6/dist-packages (from PDPbox) (1.18.5)\n",
            "Requirement already satisfied: scipy in /usr/local/lib/python3.6/dist-packages (from PDPbox) (1.4.1)\n",
            "Requirement already satisfied: matplotlib>=2.1.2 in /usr/local/lib/python3.6/dist-packages (from PDPbox) (3.2.1)\n",
            "Requirement already satisfied: joblib in /usr/local/lib/python3.6/dist-packages (from PDPbox) (0.15.1)\n",
            "Requirement already satisfied: psutil in /usr/local/lib/python3.6/dist-packages (from PDPbox) (5.4.8)\n",
            "Requirement already satisfied: scikit-learn in /usr/local/lib/python3.6/dist-packages (from PDPbox) (0.22.2.post1)\n",
            "Requirement already satisfied: pytz>=2017.2 in /usr/local/lib/python3.6/dist-packages (from pandas->PDPbox) (2018.9)\n",
            "Requirement already satisfied: python-dateutil>=2.6.1 in /usr/local/lib/python3.6/dist-packages (from pandas->PDPbox) (2.8.1)\n",
            "Requirement already satisfied: pyparsing!=2.0.4,!=2.1.2,!=2.1.6,>=2.0.1 in /usr/local/lib/python3.6/dist-packages (from matplotlib>=2.1.2->PDPbox) (2.4.7)\n",
            "Requirement already satisfied: kiwisolver>=1.0.1 in /usr/local/lib/python3.6/dist-packages (from matplotlib>=2.1.2->PDPbox) (1.2.0)\n",
            "Requirement already satisfied: cycler>=0.10 in /usr/local/lib/python3.6/dist-packages (from matplotlib>=2.1.2->PDPbox) (0.10.0)\n",
            "Requirement already satisfied: six>=1.5 in /usr/local/lib/python3.6/dist-packages (from python-dateutil>=2.6.1->pandas->PDPbox) (1.12.0)\n",
            "Building wheels for collected packages: PDPbox\n",
            "  Building wheel for PDPbox (setup.py) ... \u001b[?25l\u001b[?25hdone\n",
            "  Created wheel for PDPbox: filename=PDPbox-0.2.0-cp36-none-any.whl size=57690722 sha256=18c9d4f2e7bec5a3ffebdd816f79371aebcb4c4542e361e7964f807a71f68aac\n",
            "  Stored in directory: /root/.cache/pip/wheels/7d/08/51/63fd122b04a2c87d780464eeffb94867c75bd96a64d500a3fe\n",
            "Successfully built PDPbox\n",
            "Installing collected packages: PDPbox\n",
            "Successfully installed PDPbox-0.2.0\n"
          ],
          "name": "stdout"
        },
        {
          "output_type": "stream",
          "text": [
            "/usr/local/lib/python3.6/dist-packages/statsmodels/tools/_testing.py:19: FutureWarning: pandas.util.testing is deprecated. Use the functions in the public API at pandas.testing instead.\n",
            "  import pandas.util.testing as tm\n"
          ],
          "name": "stderr"
        }
      ]
    },
    {
      "cell_type": "code",
      "metadata": {
        "id": "xGhsS-A0PDTK",
        "colab_type": "code",
        "outputId": "6c2fd382-aa3b-4da5-9407-8d4d535e0538",
        "colab": {
          "base_uri": "https://localhost:8080/",
          "height": 411
        }
      },
      "source": [
        "# Displaying the tail and head\n",
        "\n",
        "display(train.head())\n",
        "display(train.tail())"
      ],
      "execution_count": 4,
      "outputs": [
        {
          "output_type": "display_data",
          "data": {
            "text/html": [
              "<div>\n",
              "<style scoped>\n",
              "    .dataframe tbody tr th:only-of-type {\n",
              "        vertical-align: middle;\n",
              "    }\n",
              "\n",
              "    .dataframe tbody tr th {\n",
              "        vertical-align: top;\n",
              "    }\n",
              "\n",
              "    .dataframe thead th {\n",
              "        text-align: right;\n",
              "    }\n",
              "</style>\n",
              "<table border=\"1\" class=\"dataframe\">\n",
              "  <thead>\n",
              "    <tr style=\"text-align: right;\">\n",
              "      <th></th>\n",
              "      <th>Id</th>\n",
              "      <th>groupId</th>\n",
              "      <th>matchId</th>\n",
              "      <th>assists</th>\n",
              "      <th>boosts</th>\n",
              "      <th>damageDealt</th>\n",
              "      <th>DBNOs</th>\n",
              "      <th>headshotKills</th>\n",
              "      <th>heals</th>\n",
              "      <th>killPlace</th>\n",
              "      <th>killPoints</th>\n",
              "      <th>kills</th>\n",
              "      <th>killStreaks</th>\n",
              "      <th>longestKill</th>\n",
              "      <th>matchDuration</th>\n",
              "      <th>matchType</th>\n",
              "      <th>maxPlace</th>\n",
              "      <th>numGroups</th>\n",
              "      <th>rankPoints</th>\n",
              "      <th>revives</th>\n",
              "      <th>rideDistance</th>\n",
              "      <th>roadKills</th>\n",
              "      <th>swimDistance</th>\n",
              "      <th>teamKills</th>\n",
              "      <th>vehicleDestroys</th>\n",
              "      <th>walkDistance</th>\n",
              "      <th>weaponsAcquired</th>\n",
              "      <th>winPoints</th>\n",
              "      <th>winPlacePerc</th>\n",
              "    </tr>\n",
              "  </thead>\n",
              "  <tbody>\n",
              "    <tr>\n",
              "      <th>0</th>\n",
              "      <td>7f96b2f878858a</td>\n",
              "      <td>4d4b580de459be</td>\n",
              "      <td>a10357fd1a4a91</td>\n",
              "      <td>0</td>\n",
              "      <td>0</td>\n",
              "      <td>0.00</td>\n",
              "      <td>0</td>\n",
              "      <td>0</td>\n",
              "      <td>0</td>\n",
              "      <td>60</td>\n",
              "      <td>1241</td>\n",
              "      <td>0</td>\n",
              "      <td>0</td>\n",
              "      <td>0.00</td>\n",
              "      <td>1306</td>\n",
              "      <td>squad-fpp</td>\n",
              "      <td>28</td>\n",
              "      <td>26</td>\n",
              "      <td>-1</td>\n",
              "      <td>0</td>\n",
              "      <td>0.0000</td>\n",
              "      <td>0</td>\n",
              "      <td>0.00</td>\n",
              "      <td>0</td>\n",
              "      <td>0</td>\n",
              "      <td>244.80</td>\n",
              "      <td>1</td>\n",
              "      <td>1466</td>\n",
              "      <td>0.4444</td>\n",
              "    </tr>\n",
              "    <tr>\n",
              "      <th>1</th>\n",
              "      <td>eef90569b9d03c</td>\n",
              "      <td>684d5656442f9e</td>\n",
              "      <td>aeb375fc57110c</td>\n",
              "      <td>0</td>\n",
              "      <td>0</td>\n",
              "      <td>91.47</td>\n",
              "      <td>0</td>\n",
              "      <td>0</td>\n",
              "      <td>0</td>\n",
              "      <td>57</td>\n",
              "      <td>0</td>\n",
              "      <td>0</td>\n",
              "      <td>0</td>\n",
              "      <td>0.00</td>\n",
              "      <td>1777</td>\n",
              "      <td>squad-fpp</td>\n",
              "      <td>26</td>\n",
              "      <td>25</td>\n",
              "      <td>1484</td>\n",
              "      <td>0</td>\n",
              "      <td>0.0045</td>\n",
              "      <td>0</td>\n",
              "      <td>11.04</td>\n",
              "      <td>0</td>\n",
              "      <td>0</td>\n",
              "      <td>1434.00</td>\n",
              "      <td>5</td>\n",
              "      <td>0</td>\n",
              "      <td>0.6400</td>\n",
              "    </tr>\n",
              "    <tr>\n",
              "      <th>2</th>\n",
              "      <td>1eaf90ac73de72</td>\n",
              "      <td>6a4a42c3245a74</td>\n",
              "      <td>110163d8bb94ae</td>\n",
              "      <td>1</td>\n",
              "      <td>0</td>\n",
              "      <td>68.00</td>\n",
              "      <td>0</td>\n",
              "      <td>0</td>\n",
              "      <td>0</td>\n",
              "      <td>47</td>\n",
              "      <td>0</td>\n",
              "      <td>0</td>\n",
              "      <td>0</td>\n",
              "      <td>0.00</td>\n",
              "      <td>1318</td>\n",
              "      <td>duo</td>\n",
              "      <td>50</td>\n",
              "      <td>47</td>\n",
              "      <td>1491</td>\n",
              "      <td>0</td>\n",
              "      <td>0.0000</td>\n",
              "      <td>0</td>\n",
              "      <td>0.00</td>\n",
              "      <td>0</td>\n",
              "      <td>0</td>\n",
              "      <td>161.80</td>\n",
              "      <td>2</td>\n",
              "      <td>0</td>\n",
              "      <td>0.7755</td>\n",
              "    </tr>\n",
              "    <tr>\n",
              "      <th>3</th>\n",
              "      <td>4616d365dd2853</td>\n",
              "      <td>a930a9c79cd721</td>\n",
              "      <td>f1f1f4ef412d7e</td>\n",
              "      <td>0</td>\n",
              "      <td>0</td>\n",
              "      <td>32.90</td>\n",
              "      <td>0</td>\n",
              "      <td>0</td>\n",
              "      <td>0</td>\n",
              "      <td>75</td>\n",
              "      <td>0</td>\n",
              "      <td>0</td>\n",
              "      <td>0</td>\n",
              "      <td>0.00</td>\n",
              "      <td>1436</td>\n",
              "      <td>squad-fpp</td>\n",
              "      <td>31</td>\n",
              "      <td>30</td>\n",
              "      <td>1408</td>\n",
              "      <td>0</td>\n",
              "      <td>0.0000</td>\n",
              "      <td>0</td>\n",
              "      <td>0.00</td>\n",
              "      <td>0</td>\n",
              "      <td>0</td>\n",
              "      <td>202.70</td>\n",
              "      <td>3</td>\n",
              "      <td>0</td>\n",
              "      <td>0.1667</td>\n",
              "    </tr>\n",
              "    <tr>\n",
              "      <th>4</th>\n",
              "      <td>315c96c26c9aac</td>\n",
              "      <td>de04010b3458dd</td>\n",
              "      <td>6dc8ff871e21e6</td>\n",
              "      <td>0</td>\n",
              "      <td>0</td>\n",
              "      <td>100.00</td>\n",
              "      <td>0</td>\n",
              "      <td>0</td>\n",
              "      <td>0</td>\n",
              "      <td>45</td>\n",
              "      <td>0</td>\n",
              "      <td>1</td>\n",
              "      <td>1</td>\n",
              "      <td>58.53</td>\n",
              "      <td>1424</td>\n",
              "      <td>solo-fpp</td>\n",
              "      <td>97</td>\n",
              "      <td>95</td>\n",
              "      <td>1560</td>\n",
              "      <td>0</td>\n",
              "      <td>0.0000</td>\n",
              "      <td>0</td>\n",
              "      <td>0.00</td>\n",
              "      <td>0</td>\n",
              "      <td>0</td>\n",
              "      <td>49.75</td>\n",
              "      <td>2</td>\n",
              "      <td>0</td>\n",
              "      <td>0.1875</td>\n",
              "    </tr>\n",
              "  </tbody>\n",
              "</table>\n",
              "</div>"
            ],
            "text/plain": [
              "               Id         groupId  ... winPoints  winPlacePerc\n",
              "0  7f96b2f878858a  4d4b580de459be  ...      1466        0.4444\n",
              "1  eef90569b9d03c  684d5656442f9e  ...         0        0.6400\n",
              "2  1eaf90ac73de72  6a4a42c3245a74  ...         0        0.7755\n",
              "3  4616d365dd2853  a930a9c79cd721  ...         0        0.1667\n",
              "4  315c96c26c9aac  de04010b3458dd  ...         0        0.1875\n",
              "\n",
              "[5 rows x 29 columns]"
            ]
          },
          "metadata": {
            "tags": []
          }
        },
        {
          "output_type": "display_data",
          "data": {
            "text/html": [
              "<div>\n",
              "<style scoped>\n",
              "    .dataframe tbody tr th:only-of-type {\n",
              "        vertical-align: middle;\n",
              "    }\n",
              "\n",
              "    .dataframe tbody tr th {\n",
              "        vertical-align: top;\n",
              "    }\n",
              "\n",
              "    .dataframe thead th {\n",
              "        text-align: right;\n",
              "    }\n",
              "</style>\n",
              "<table border=\"1\" class=\"dataframe\">\n",
              "  <thead>\n",
              "    <tr style=\"text-align: right;\">\n",
              "      <th></th>\n",
              "      <th>Id</th>\n",
              "      <th>groupId</th>\n",
              "      <th>matchId</th>\n",
              "      <th>assists</th>\n",
              "      <th>boosts</th>\n",
              "      <th>damageDealt</th>\n",
              "      <th>DBNOs</th>\n",
              "      <th>headshotKills</th>\n",
              "      <th>heals</th>\n",
              "      <th>killPlace</th>\n",
              "      <th>killPoints</th>\n",
              "      <th>kills</th>\n",
              "      <th>killStreaks</th>\n",
              "      <th>longestKill</th>\n",
              "      <th>matchDuration</th>\n",
              "      <th>matchType</th>\n",
              "      <th>maxPlace</th>\n",
              "      <th>numGroups</th>\n",
              "      <th>rankPoints</th>\n",
              "      <th>revives</th>\n",
              "      <th>rideDistance</th>\n",
              "      <th>roadKills</th>\n",
              "      <th>swimDistance</th>\n",
              "      <th>teamKills</th>\n",
              "      <th>vehicleDestroys</th>\n",
              "      <th>walkDistance</th>\n",
              "      <th>weaponsAcquired</th>\n",
              "      <th>winPoints</th>\n",
              "      <th>winPlacePerc</th>\n",
              "    </tr>\n",
              "  </thead>\n",
              "  <tbody>\n",
              "    <tr>\n",
              "      <th>4446961</th>\n",
              "      <td>afff7f652dbc10</td>\n",
              "      <td>d238e426f50de7</td>\n",
              "      <td>18492834ce5635</td>\n",
              "      <td>0</td>\n",
              "      <td>0</td>\n",
              "      <td>0.00</td>\n",
              "      <td>0</td>\n",
              "      <td>0</td>\n",
              "      <td>0</td>\n",
              "      <td>74</td>\n",
              "      <td>1029</td>\n",
              "      <td>0</td>\n",
              "      <td>0</td>\n",
              "      <td>0.00</td>\n",
              "      <td>1873</td>\n",
              "      <td>squad-fpp</td>\n",
              "      <td>29</td>\n",
              "      <td>28</td>\n",
              "      <td>-1</td>\n",
              "      <td>0</td>\n",
              "      <td>1292.0</td>\n",
              "      <td>0</td>\n",
              "      <td>0.000</td>\n",
              "      <td>0</td>\n",
              "      <td>0</td>\n",
              "      <td>1019.0</td>\n",
              "      <td>3</td>\n",
              "      <td>1507</td>\n",
              "      <td>0.1786</td>\n",
              "    </tr>\n",
              "    <tr>\n",
              "      <th>4446962</th>\n",
              "      <td>f4197cf374e6c0</td>\n",
              "      <td>408cdb5c46b2ac</td>\n",
              "      <td>ee854b837376d9</td>\n",
              "      <td>0</td>\n",
              "      <td>1</td>\n",
              "      <td>44.15</td>\n",
              "      <td>0</td>\n",
              "      <td>0</td>\n",
              "      <td>0</td>\n",
              "      <td>69</td>\n",
              "      <td>0</td>\n",
              "      <td>0</td>\n",
              "      <td>0</td>\n",
              "      <td>0.00</td>\n",
              "      <td>1435</td>\n",
              "      <td>solo</td>\n",
              "      <td>93</td>\n",
              "      <td>93</td>\n",
              "      <td>1501</td>\n",
              "      <td>0</td>\n",
              "      <td>0.0</td>\n",
              "      <td>0</td>\n",
              "      <td>0.000</td>\n",
              "      <td>0</td>\n",
              "      <td>0</td>\n",
              "      <td>81.7</td>\n",
              "      <td>6</td>\n",
              "      <td>0</td>\n",
              "      <td>0.2935</td>\n",
              "    </tr>\n",
              "    <tr>\n",
              "      <th>4446963</th>\n",
              "      <td>e1948b1295c88a</td>\n",
              "      <td>e26ac84bdf7cef</td>\n",
              "      <td>6d0cd12784f1ab</td>\n",
              "      <td>0</td>\n",
              "      <td>0</td>\n",
              "      <td>59.06</td>\n",
              "      <td>0</td>\n",
              "      <td>0</td>\n",
              "      <td>0</td>\n",
              "      <td>66</td>\n",
              "      <td>0</td>\n",
              "      <td>0</td>\n",
              "      <td>0</td>\n",
              "      <td>0.00</td>\n",
              "      <td>1321</td>\n",
              "      <td>squad-fpp</td>\n",
              "      <td>28</td>\n",
              "      <td>28</td>\n",
              "      <td>1500</td>\n",
              "      <td>0</td>\n",
              "      <td>0.0</td>\n",
              "      <td>0</td>\n",
              "      <td>2.184</td>\n",
              "      <td>0</td>\n",
              "      <td>0</td>\n",
              "      <td>788.7</td>\n",
              "      <td>4</td>\n",
              "      <td>0</td>\n",
              "      <td>0.4815</td>\n",
              "    </tr>\n",
              "    <tr>\n",
              "      <th>4446964</th>\n",
              "      <td>cc032cdd73b7ac</td>\n",
              "      <td>c2223f35411394</td>\n",
              "      <td>c9c701d0ad758a</td>\n",
              "      <td>0</td>\n",
              "      <td>4</td>\n",
              "      <td>180.40</td>\n",
              "      <td>1</td>\n",
              "      <td>1</td>\n",
              "      <td>2</td>\n",
              "      <td>11</td>\n",
              "      <td>0</td>\n",
              "      <td>2</td>\n",
              "      <td>1</td>\n",
              "      <td>98.50</td>\n",
              "      <td>1373</td>\n",
              "      <td>squad-fpp</td>\n",
              "      <td>26</td>\n",
              "      <td>25</td>\n",
              "      <td>1418</td>\n",
              "      <td>2</td>\n",
              "      <td>0.0</td>\n",
              "      <td>0</td>\n",
              "      <td>0.000</td>\n",
              "      <td>0</td>\n",
              "      <td>0</td>\n",
              "      <td>2748.0</td>\n",
              "      <td>8</td>\n",
              "      <td>0</td>\n",
              "      <td>0.8000</td>\n",
              "    </tr>\n",
              "    <tr>\n",
              "      <th>4446965</th>\n",
              "      <td>0d8e7ed728b6fd</td>\n",
              "      <td>8c74f72fedf5ff</td>\n",
              "      <td>62a16aabcc095c</td>\n",
              "      <td>0</td>\n",
              "      <td>2</td>\n",
              "      <td>268.00</td>\n",
              "      <td>0</td>\n",
              "      <td>0</td>\n",
              "      <td>1</td>\n",
              "      <td>18</td>\n",
              "      <td>0</td>\n",
              "      <td>2</td>\n",
              "      <td>1</td>\n",
              "      <td>78.25</td>\n",
              "      <td>1766</td>\n",
              "      <td>solo-fpp</td>\n",
              "      <td>98</td>\n",
              "      <td>94</td>\n",
              "      <td>1590</td>\n",
              "      <td>0</td>\n",
              "      <td>1369.0</td>\n",
              "      <td>0</td>\n",
              "      <td>0.000</td>\n",
              "      <td>0</td>\n",
              "      <td>0</td>\n",
              "      <td>1244.0</td>\n",
              "      <td>5</td>\n",
              "      <td>0</td>\n",
              "      <td>0.5464</td>\n",
              "    </tr>\n",
              "  </tbody>\n",
              "</table>\n",
              "</div>"
            ],
            "text/plain": [
              "                     Id         groupId  ... winPoints  winPlacePerc\n",
              "4446961  afff7f652dbc10  d238e426f50de7  ...      1507        0.1786\n",
              "4446962  f4197cf374e6c0  408cdb5c46b2ac  ...         0        0.2935\n",
              "4446963  e1948b1295c88a  e26ac84bdf7cef  ...         0        0.4815\n",
              "4446964  cc032cdd73b7ac  c2223f35411394  ...         0        0.8000\n",
              "4446965  0d8e7ed728b6fd  8c74f72fedf5ff  ...         0        0.5464\n",
              "\n",
              "[5 rows x 29 columns]"
            ]
          },
          "metadata": {
            "tags": []
          }
        }
      ]
    },
    {
      "cell_type": "code",
      "metadata": {
        "id": "beJOyOc_PGgq",
        "colab_type": "code",
        "outputId": "ef786e04-a13d-44d2-fab4-bf9b06ed7640",
        "colab": {
          "base_uri": "https://localhost:8080/",
          "height": 698
        }
      },
      "source": [
        "# Getting the stats of the data\n",
        "train.describe()\n",
        "train.info()\n",
        "print('Shape of training set: ', train.shape)\n",
        "\n",
        "# Check row with NaN value and then removing them\n",
        "train[train['winPlacePerc'].isnull()]\n",
        "train.drop(2744604, inplace=True)\n",
        "train[train['winPlacePerc'].isnull()]"
      ],
      "execution_count": 5,
      "outputs": [
        {
          "output_type": "stream",
          "text": [
            "<class 'pandas.core.frame.DataFrame'>\n",
            "RangeIndex: 4446966 entries, 0 to 4446965\n",
            "Data columns (total 29 columns):\n",
            " #   Column           Dtype  \n",
            "---  ------           -----  \n",
            " 0   Id               object \n",
            " 1   groupId          object \n",
            " 2   matchId          object \n",
            " 3   assists          int64  \n",
            " 4   boosts           int64  \n",
            " 5   damageDealt      float64\n",
            " 6   DBNOs            int64  \n",
            " 7   headshotKills    int64  \n",
            " 8   heals            int64  \n",
            " 9   killPlace        int64  \n",
            " 10  killPoints       int64  \n",
            " 11  kills            int64  \n",
            " 12  killStreaks      int64  \n",
            " 13  longestKill      float64\n",
            " 14  matchDuration    int64  \n",
            " 15  matchType        object \n",
            " 16  maxPlace         int64  \n",
            " 17  numGroups        int64  \n",
            " 18  rankPoints       int64  \n",
            " 19  revives          int64  \n",
            " 20  rideDistance     float64\n",
            " 21  roadKills        int64  \n",
            " 22  swimDistance     float64\n",
            " 23  teamKills        int64  \n",
            " 24  vehicleDestroys  int64  \n",
            " 25  walkDistance     float64\n",
            " 26  weaponsAcquired  int64  \n",
            " 27  winPoints        int64  \n",
            " 28  winPlacePerc     float64\n",
            "dtypes: float64(6), int64(19), object(4)\n",
            "memory usage: 983.9+ MB\n",
            "Shape of training set:  (4446966, 29)\n"
          ],
          "name": "stdout"
        },
        {
          "output_type": "execute_result",
          "data": {
            "text/html": [
              "<div>\n",
              "<style scoped>\n",
              "    .dataframe tbody tr th:only-of-type {\n",
              "        vertical-align: middle;\n",
              "    }\n",
              "\n",
              "    .dataframe tbody tr th {\n",
              "        vertical-align: top;\n",
              "    }\n",
              "\n",
              "    .dataframe thead th {\n",
              "        text-align: right;\n",
              "    }\n",
              "</style>\n",
              "<table border=\"1\" class=\"dataframe\">\n",
              "  <thead>\n",
              "    <tr style=\"text-align: right;\">\n",
              "      <th></th>\n",
              "      <th>Id</th>\n",
              "      <th>groupId</th>\n",
              "      <th>matchId</th>\n",
              "      <th>assists</th>\n",
              "      <th>boosts</th>\n",
              "      <th>damageDealt</th>\n",
              "      <th>DBNOs</th>\n",
              "      <th>headshotKills</th>\n",
              "      <th>heals</th>\n",
              "      <th>killPlace</th>\n",
              "      <th>killPoints</th>\n",
              "      <th>kills</th>\n",
              "      <th>killStreaks</th>\n",
              "      <th>longestKill</th>\n",
              "      <th>matchDuration</th>\n",
              "      <th>matchType</th>\n",
              "      <th>maxPlace</th>\n",
              "      <th>numGroups</th>\n",
              "      <th>rankPoints</th>\n",
              "      <th>revives</th>\n",
              "      <th>rideDistance</th>\n",
              "      <th>roadKills</th>\n",
              "      <th>swimDistance</th>\n",
              "      <th>teamKills</th>\n",
              "      <th>vehicleDestroys</th>\n",
              "      <th>walkDistance</th>\n",
              "      <th>weaponsAcquired</th>\n",
              "      <th>winPoints</th>\n",
              "      <th>winPlacePerc</th>\n",
              "    </tr>\n",
              "  </thead>\n",
              "  <tbody>\n",
              "  </tbody>\n",
              "</table>\n",
              "</div>"
            ],
            "text/plain": [
              "Empty DataFrame\n",
              "Columns: [Id, groupId, matchId, assists, boosts, damageDealt, DBNOs, headshotKills, heals, killPlace, killPoints, kills, killStreaks, longestKill, matchDuration, matchType, maxPlace, numGroups, rankPoints, revives, rideDistance, roadKills, swimDistance, teamKills, vehicleDestroys, walkDistance, weaponsAcquired, winPoints, winPlacePerc]\n",
              "Index: []"
            ]
          },
          "metadata": {
            "tags": []
          },
          "execution_count": 5
        }
      ]
    },
    {
      "cell_type": "code",
      "metadata": {
        "id": "_0GoFNZcPVXi",
        "colab_type": "code",
        "outputId": "943be1c7-9728-49cf-964f-5a879cff8f73",
        "colab": {
          "base_uri": "https://localhost:8080/",
          "height": 621
        }
      },
      "source": [
        "# Creating a bar graph of the number of players that have joined\n",
        "train['playersJoined'] = train.groupby('matchId')['matchId'].transform('count')\n",
        "plt.figure(figsize=(15,10))\n",
        "sns.countplot(train[train['playersJoined']>=75]['playersJoined'])\n",
        "plt.title('playersJoined')\n",
        "plt.show()"
      ],
      "execution_count": 6,
      "outputs": [
        {
          "output_type": "display_data",
          "data": {
            "image/png": "[encoded data removed]",
            "text/plain": [
              "<Figure size 1080x720 with 1 Axes>"
            ]
          },
          "metadata": {
            "tags": [],
            "needs_background": "light"
          }
        }
      ]
    },
    {
      "cell_type": "code",
      "metadata": {
        "id": "5_t3aKlPPYhK",
        "colab_type": "code",
        "outputId": "80ce6dfb-5e35-41d1-a5f6-1d2b1387fe23",
        "colab": {
          "base_uri": "https://localhost:8080/",
          "height": 390
        }
      },
      "source": [
        "# Creating  normalized features and displaying them\n",
        "train['killsNorm'] = train['kills']*((100-train['playersJoined'])/100 + 1)\n",
        "train['damageDealtNorm'] = train['damageDealt']*((100-train['playersJoined'])/100 + 1)\n",
        "train['maxPlaceNorm'] = train['maxPlace']*((100-train['playersJoined'])/100 + 1)\n",
        "train['matchDurationNorm'] = train['matchDuration']*((100-train['playersJoined'])/100 + 1)\n",
        "to_show = ['Id', 'kills','killsNorm','damageDealt', 'damageDealtNorm', 'maxPlace', 'maxPlaceNorm', 'matchDuration', 'matchDurationNorm']\n",
        "train[to_show][0:11]"
      ],
      "execution_count": 7,
      "outputs": [
        {
          "output_type": "execute_result",
          "data": {
            "text/html": [
              "<div>\n",
              "<style scoped>\n",
              "    .dataframe tbody tr th:only-of-type {\n",
              "        vertical-align: middle;\n",
              "    }\n",
              "\n",
              "    .dataframe tbody tr th {\n",
              "        vertical-align: top;\n",
              "    }\n",
              "\n",
              "    .dataframe thead th {\n",
              "        text-align: right;\n",
              "    }\n",
              "</style>\n",
              "<table border=\"1\" class=\"dataframe\">\n",
              "  <thead>\n",
              "    <tr style=\"text-align: right;\">\n",
              "      <th></th>\n",
              "      <th>Id</th>\n",
              "      <th>kills</th>\n",
              "      <th>killsNorm</th>\n",
              "      <th>damageDealt</th>\n",
              "      <th>damageDealtNorm</th>\n",
              "      <th>maxPlace</th>\n",
              "      <th>maxPlaceNorm</th>\n",
              "      <th>matchDuration</th>\n",
              "      <th>matchDurationNorm</th>\n",
              "    </tr>\n",
              "  </thead>\n",
              "  <tbody>\n",
              "    <tr>\n",
              "      <th>0</th>\n",
              "      <td>7f96b2f878858a</td>\n",
              "      <td>0</td>\n",
              "      <td>0.00</td>\n",
              "      <td>0.000</td>\n",
              "      <td>0.00000</td>\n",
              "      <td>28</td>\n",
              "      <td>29.12</td>\n",
              "      <td>1306</td>\n",
              "      <td>1358.24</td>\n",
              "    </tr>\n",
              "    <tr>\n",
              "      <th>1</th>\n",
              "      <td>eef90569b9d03c</td>\n",
              "      <td>0</td>\n",
              "      <td>0.00</td>\n",
              "      <td>91.470</td>\n",
              "      <td>99.70230</td>\n",
              "      <td>26</td>\n",
              "      <td>28.34</td>\n",
              "      <td>1777</td>\n",
              "      <td>1936.93</td>\n",
              "    </tr>\n",
              "    <tr>\n",
              "      <th>2</th>\n",
              "      <td>1eaf90ac73de72</td>\n",
              "      <td>0</td>\n",
              "      <td>0.00</td>\n",
              "      <td>68.000</td>\n",
              "      <td>69.36000</td>\n",
              "      <td>50</td>\n",
              "      <td>51.00</td>\n",
              "      <td>1318</td>\n",
              "      <td>1344.36</td>\n",
              "    </tr>\n",
              "    <tr>\n",
              "      <th>3</th>\n",
              "      <td>4616d365dd2853</td>\n",
              "      <td>0</td>\n",
              "      <td>0.00</td>\n",
              "      <td>32.900</td>\n",
              "      <td>35.86100</td>\n",
              "      <td>31</td>\n",
              "      <td>33.79</td>\n",
              "      <td>1436</td>\n",
              "      <td>1565.24</td>\n",
              "    </tr>\n",
              "    <tr>\n",
              "      <th>4</th>\n",
              "      <td>315c96c26c9aac</td>\n",
              "      <td>1</td>\n",
              "      <td>1.03</td>\n",
              "      <td>100.000</td>\n",
              "      <td>103.00000</td>\n",
              "      <td>97</td>\n",
              "      <td>99.91</td>\n",
              "      <td>1424</td>\n",
              "      <td>1466.72</td>\n",
              "    </tr>\n",
              "    <tr>\n",
              "      <th>5</th>\n",
              "      <td>ff79c12f326506</td>\n",
              "      <td>1</td>\n",
              "      <td>1.05</td>\n",
              "      <td>100.000</td>\n",
              "      <td>105.00000</td>\n",
              "      <td>28</td>\n",
              "      <td>29.40</td>\n",
              "      <td>1395</td>\n",
              "      <td>1464.75</td>\n",
              "    </tr>\n",
              "    <tr>\n",
              "      <th>6</th>\n",
              "      <td>95959be0e21ca3</td>\n",
              "      <td>0</td>\n",
              "      <td>0.00</td>\n",
              "      <td>0.000</td>\n",
              "      <td>0.00000</td>\n",
              "      <td>28</td>\n",
              "      <td>28.84</td>\n",
              "      <td>1316</td>\n",
              "      <td>1355.48</td>\n",
              "    </tr>\n",
              "    <tr>\n",
              "      <th>7</th>\n",
              "      <td>311b84c6ff4390</td>\n",
              "      <td>0</td>\n",
              "      <td>0.00</td>\n",
              "      <td>8.538</td>\n",
              "      <td>8.87952</td>\n",
              "      <td>96</td>\n",
              "      <td>99.84</td>\n",
              "      <td>1967</td>\n",
              "      <td>2045.68</td>\n",
              "    </tr>\n",
              "    <tr>\n",
              "      <th>8</th>\n",
              "      <td>1a68204ccf9891</td>\n",
              "      <td>0</td>\n",
              "      <td>0.00</td>\n",
              "      <td>51.600</td>\n",
              "      <td>53.14800</td>\n",
              "      <td>28</td>\n",
              "      <td>28.84</td>\n",
              "      <td>1375</td>\n",
              "      <td>1416.25</td>\n",
              "    </tr>\n",
              "    <tr>\n",
              "      <th>9</th>\n",
              "      <td>e5bb5a43587253</td>\n",
              "      <td>0</td>\n",
              "      <td>0.00</td>\n",
              "      <td>37.270</td>\n",
              "      <td>38.38810</td>\n",
              "      <td>29</td>\n",
              "      <td>29.87</td>\n",
              "      <td>1930</td>\n",
              "      <td>1987.90</td>\n",
              "    </tr>\n",
              "    <tr>\n",
              "      <th>10</th>\n",
              "      <td>2b574d43972813</td>\n",
              "      <td>0</td>\n",
              "      <td>0.00</td>\n",
              "      <td>28.380</td>\n",
              "      <td>28.66380</td>\n",
              "      <td>29</td>\n",
              "      <td>29.29</td>\n",
              "      <td>1811</td>\n",
              "      <td>1829.11</td>\n",
              "    </tr>\n",
              "  </tbody>\n",
              "</table>\n",
              "</div>"
            ],
            "text/plain": [
              "                Id  kills  ...  matchDuration  matchDurationNorm\n",
              "0   7f96b2f878858a      0  ...           1306            1358.24\n",
              "1   eef90569b9d03c      0  ...           1777            1936.93\n",
              "2   1eaf90ac73de72      0  ...           1318            1344.36\n",
              "3   4616d365dd2853      0  ...           1436            1565.24\n",
              "4   315c96c26c9aac      1  ...           1424            1466.72\n",
              "5   ff79c12f326506      1  ...           1395            1464.75\n",
              "6   95959be0e21ca3      0  ...           1316            1355.48\n",
              "7   311b84c6ff4390      0  ...           1967            2045.68\n",
              "8   1a68204ccf9891      0  ...           1375            1416.25\n",
              "9   e5bb5a43587253      0  ...           1930            1987.90\n",
              "10  2b574d43972813      0  ...           1811            1829.11\n",
              "\n",
              "[11 rows x 9 columns]"
            ]
          },
          "metadata": {
            "tags": []
          },
          "execution_count": 7
        }
      ]
    },
    {
      "cell_type": "code",
      "metadata": {
        "id": "Z2t_F5_wPbdT",
        "colab_type": "code",
        "colab": {}
      },
      "source": [
        "# Create new feature healsandboosts\n",
        "train['healsandboosts'] = train['heals'] + train['boosts']\n",
        "train[['heals', 'boosts', 'healsandboosts']].tail()\n",
        "# Create feature totalDistance\n",
        "train['totalDistance'] = train['rideDistance'] + train['walkDistance'] + train['swimDistance']\n",
        "# Create feature killsWithoutMoving\n",
        "train['killsWithoutMoving'] = ((train['kills'] > 0) & (train['totalDistance'] == 0))\n",
        "# Create headshot_rate feature\n",
        "train['headshot_rate'] = train['headshotKills'] / train['kills']\n",
        "train['headshot_rate'] = train['headshot_rate'].fillna(0)"
      ],
      "execution_count": 0,
      "outputs": []
    },
    {
      "cell_type": "code",
      "metadata": {
        "id": "ybsgIMCPPiTK",
        "colab_type": "code",
        "outputId": "3447b89d-2f3f-427e-c533-b43b44c8dfc4",
        "colab": {
          "base_uri": "https://localhost:8080/",
          "height": 34
        }
      },
      "source": [
        "# Check players who kills without moving and remove them\n",
        "display(train[train['killsWithoutMoving'] == True].shape)\n",
        "train[train['killsWithoutMoving'] == True].head(10)\n",
        "train.drop(train[train['killsWithoutMoving'] == True].index, inplace=True)\n",
        "# Players who got more than 10 roadKills and remove them\n",
        "train[train['roadKills'] > 10]\n",
        "train.drop(train[train['roadKills'] > 10].index, inplace=True)"
      ],
      "execution_count": 9,
      "outputs": [
        {
          "output_type": "display_data",
          "data": {
            "text/plain": [
              "(1535, 38)"
            ]
          },
          "metadata": {
            "tags": []
          }
        }
      ]
    },
    {
      "cell_type": "code",
      "metadata": {
        "id": "Amh5lh7uPpkC",
        "colab_type": "code",
        "outputId": "407a3538-2aeb-444c-98c2-607b2a177da5",
        "colab": {
          "base_uri": "https://localhost:8080/",
          "height": 820
        }
      },
      "source": [
        "\n",
        "# Plot the distribution of kills\n",
        "plt.figure(figsize=(12,4))\n",
        "sns.countplot(data=train, x=train['kills']).set_title('Kills')\n",
        "plt.show()\n",
        "# Plot the distribution of headshot_rate\n",
        "plt.figure(figsize=(12,4))\n",
        "sns.distplot(train['headshot_rate'], bins=10)\n",
        "plt.show()\n",
        "# Plot the distribution of longestKill\n",
        "plt.figure(figsize=(12,4))\n",
        "sns.distplot(train['longestKill'], bins=10)\n",
        "plt.show()"
      ],
      "execution_count": 10,
      "outputs": [
        {
          "output_type": "display_data",
          "data": {
            "image/png": "[encoded data removed]",
            "text/plain": [
              "<Figure size 864x288 with 1 Axes>"
            ]
          },
          "metadata": {
            "tags": [],
            "needs_background": "light"
          }
        },
        {
          "output_type": "display_data",
          "data": {
            "image/png": "[encoded data removed]",
            "text/plain": [
              "<Figure size 864x288 with 1 Axes>"
            ]
          },
          "metadata": {
            "tags": [],
            "needs_background": "light"
          }
        },
        {
          "output_type": "display_data",
          "data": {
            "image/png": "[encoded data removed]",
            "text/plain": [
              "<Figure size 864x288 with 1 Axes>"
            ]
          },
          "metadata": {
            "tags": [],
            "needs_background": "light"
          }
        }
      ]
    },
    {
      "cell_type": "code",
      "metadata": {
        "id": "V75dPddUQBch",
        "colab_type": "code",
        "colab": {}
      },
      "source": [
        "# Remove outliers\n",
        "train.drop(train[train['longestKill'] >= 1000].index, inplace=True)"
      ],
      "execution_count": 0,
      "outputs": []
    },
    {
      "cell_type": "code",
      "metadata": {
        "id": "anAfdm4DQdiZ",
        "colab_type": "code",
        "outputId": "b29e666b-7e39-4497-dc89-687cfe4a65cb",
        "colab": {
          "base_uri": "https://localhost:8080/",
          "height": 330
        }
      },
      "source": [
        "# Players who acquired more than 80 weapons\n",
        "display(train[train['weaponsAcquired'] >= 80].shape)\n",
        "train[train['weaponsAcquired'] >= 80].head()\n",
        "# Remove outliers\n",
        "train.drop(train[train['weaponsAcquired'] >= 80].index, inplace=True)\n",
        "# Distribution of heals\n",
        "plt.figure(figsize=(12,4))\n",
        "sns.distplot(train['heals'], bins=10)\n",
        "plt.show()\n",
        "# 40 or more healing items used\n",
        "display(train[train['heals'] >= 40].shape)\n",
        "train[train['heals'] >= 40].head(10)\n",
        "# Remove outliers\n",
        "train.drop(train[train['heals'] >= 40].index, inplace=True)\n",
        "# Remaining players in the training set\n",
        "train.shape\n"
      ],
      "execution_count": 12,
      "outputs": [
        {
          "output_type": "display_data",
          "data": {
            "text/plain": [
              "(21, 38)"
            ]
          },
          "metadata": {
            "tags": []
          }
        },
        {
          "output_type": "display_data",
          "data": {
            "image/png": "[encoded data removed]",
            "text/plain": [
              "<Figure size 864x288 with 1 Axes>"
            ]
          },
          "metadata": {
            "tags": [],
            "needs_background": "light"
          }
        },
        {
          "output_type": "display_data",
          "data": {
            "text/plain": [
              "(135, 38)"
            ]
          },
          "metadata": {
            "tags": []
          }
        },
        {
          "output_type": "execute_result",
          "data": {
            "text/plain": [
              "(4445250, 38)"
            ]
          },
          "metadata": {
            "tags": []
          },
          "execution_count": 12
        }
      ]
    },
    {
      "cell_type": "code",
      "metadata": {
        "id": "1S-QI08fQuKS",
        "colab_type": "code",
        "outputId": "e32f55e5-d7f8-4d09-f5ff-32641571ad32",
        "colab": {
          "base_uri": "https://localhost:8080/",
          "height": 34
        }
      },
      "source": [
        "print('There are {} different Match types in the dataset.'.format(train['matchType'].nunique()))\n",
        "# One hot encode matchType\n",
        "train = pd.get_dummies(train, columns=['matchType'])\n",
        "\n",
        "# Take a look at the encoding\n",
        "matchType_encoding = train.filter(regex='matchType')\n",
        "matchType_encoding.head()\n",
        "# Turn groupId and match Id into categorical types\n",
        "train['groupId'] = train['groupId'].astype('category')\n",
        "train['matchId'] = train['matchId'].astype('category')\n",
        "\n",
        "# Get category coding for groupId and matchID\n",
        "train['groupId_cat'] = train['groupId'].cat.codes\n",
        "train['matchId_cat'] = train['matchId'].cat.codes\n",
        "\n",
        "# Get rid of old columns\n",
        "train.drop(columns=['groupId', 'matchId'], inplace=True)\n",
        "\n",
        "# Lets take a look at our newly created features\n",
        "train[['groupId_cat', 'matchId_cat']].head()\n",
        "# Drop Id column, because it probably won't be useful for our Machine Learning algorithm,\n",
        "# because the test set contains different Id's\n",
        "train.drop(columns = ['Id'], inplace=True)"
      ],
      "execution_count": 13,
      "outputs": [
        {
          "output_type": "stream",
          "text": [
            "There are 16 different Match types in the dataset.\n"
          ],
          "name": "stdout"
        }
      ]
    },
    {
      "cell_type": "code",
      "metadata": {
        "id": "k-xlW1XHQ0u0",
        "colab_type": "code",
        "outputId": "b31d7be8-e9c0-49db-8c00-6e4314c93433",
        "colab": {
          "base_uri": "https://localhost:8080/",
          "height": 51
        }
      },
      "source": [
        "# Take sample for debugging and exploration\n",
        "sample = 500000\n",
        "df_sample = train.sample(sample)\n",
        "# Splitting sample into training data and target variable\n",
        "df = df_sample.drop(columns = ['winPlacePerc']) #all columns except target\n",
        "y = df_sample['winPlacePerc'] # Only target variable\n",
        "# Function for splitting training and validation data\n",
        "def split_vals(a, n : int): \n",
        "    return a[:n].copy(), a[n:].copy()\n",
        "val_perc = 0.12 # % to use for validation set\n",
        "n_valid = int(val_perc * sample) \n",
        "n_trn = len(df)-n_valid\n",
        "raw_train, raw_valid = split_vals(df_sample, n_trn)\n",
        "X_train, X_valid = split_vals(df, n_trn)\n",
        "y_train, y_valid = split_vals(y, n_trn)\n",
        "\n",
        "print('Sample train shape: ', X_train.shape, \n",
        "      'Sample target shape: ', y_train.shape, \n",
        "      'Sample validation shape: ', X_valid.shape)\n",
        "\n",
        "from sklearn.metrics import mean_absolute_error\n",
        "def print_score(m : RandomForestRegressor):\n",
        "    res = ['mae train: ', mean_absolute_error(m.predict(X_train), y_train), \n",
        "           'mae val: ', mean_absolute_error(m.predict(X_valid), y_valid)]\n",
        "    if hasattr(m, 'oob_score_'): res.append(m.oob_score_)\n",
        "    print(res)\n",
        "m1 = RandomForestRegressor(n_estimators=40, min_samples_leaf=3, max_features='sqrt',\n",
        "                          n_jobs=-1)\n",
        "m1.fit(X_train, y_train)\n",
        "print_score(m1)\n"
      ],
      "execution_count": 14,
      "outputs": [
        {
          "output_type": "stream",
          "text": [
            "Sample train shape:  (440000, 51) Sample target shape:  (440000,) Sample validation shape:  (60000, 51)\n",
            "['mae train: ', 0.03940720552283221, 'mae val: ', 0.06250315599743549]\n"
          ],
          "name": "stdout"
        }
      ]
    },
    {
      "cell_type": "code",
      "metadata": {
        "id": "m0lIboRlRBjb",
        "colab_type": "code",
        "outputId": "ec91cbb6-416a-4325-89c3-2ba9b95799df",
        "colab": {
          "base_uri": "https://localhost:8080/",
          "height": 782
        }
      },
      "source": [
        "\n",
        "fi = rf_feat_importance(m1, df); fi[:10]\n",
        "# Plotting a feature importance graph for the 20 most important features\n",
        "plot1 = fi[:20].plot('cols', 'imp', figsize=(14,6), legend=False, kind = 'barh')\n",
        "plot1\n",
        "# Keeping only significant features\n",
        "to_keep = fi[fi.imp>0.005].cols\n",
        "print('Significant features: ', len(to_keep))\n",
        "to_keep\n",
        "# Making a DataFrame with only significant features\n",
        "df_keep = df[to_keep].copy()\n",
        "X_train, X_valid = split_vals(df_keep, n_trn)\n",
        "m2 = RandomForestRegressor(n_estimators=80, min_samples_leaf=3, max_features='sqrt',\n",
        "                          n_jobs=-1)\n",
        "m2.fit(X_train, y_train)\n",
        "print_score(m2)\n",
        "\n",
        "fi_to_keep = rf_feat_importance(m2, df_keep)\n",
        "plot2 = fi_to_keep.plot('cols', 'imp', figsize=(14,6), legend=False, kind = 'barh')\n",
        "plot2\n"
      ],
      "execution_count": 15,
      "outputs": [
        {
          "output_type": "stream",
          "text": [
            "Significant features:  21\n",
            "['mae train: ', 0.03738239006177737, 'mae val: ', 0.05989657567224077]\n"
          ],
          "name": "stdout"
        },
        {
          "output_type": "execute_result",
          "data": {
            "text/plain": [
              "<matplotlib.axes._subplots.AxesSubplot at 0x7f19dfddddd8>"
            ]
          },
          "metadata": {
            "tags": []
          },
          "execution_count": 15
        },
        {
          "output_type": "display_data",
          "data": {
            "image/png": "[encoded data removed]",
            "text/plain": [
              "<Figure size 1008x432 with 1 Axes>"
            ]
          },
          "metadata": {
            "tags": [],
            "needs_background": "light"
          }
        },
        {
          "output_type": "display_data",
          "data": {
            "image/png": "[encoded data removed]",
            "text/plain": [
              "<Figure size 1008x432 with 1 Axes>"
            ]
          },
          "metadata": {
            "tags": [],
            "needs_background": "light"
          }
        }
      ]
    },
    {
      "cell_type": "code",
      "metadata": {
        "id": "1hLKOL8C9pQ0",
        "colab_type": "code",
        "outputId": "7e49e2c9-dce1-45f1-d5fe-4893cfebc7e7",
        "colab": {
          "base_uri": "https://localhost:8080/",
          "height": 633
        }
      },
      "source": [
        "# Correlation heatmap\n",
        "corr = df_keep.corr()\n",
        "f, ax = plt.subplots(figsize=(11, 9))\n",
        "heatmap = sns.heatmap(corr)\n",
        "\n"
      ],
      "execution_count": 16,
      "outputs": [
        {
          "output_type": "display_data",
          "data": {
            "image/png": "[encoded data removed]",
            "text/plain": [
              "<Figure size 792x648 with 2 Axes>"
            ]
          },
          "metadata": {
            "tags": [],
            "needs_background": "light"
          }
        }
      ]
    },
    {
      "cell_type": "code",
      "metadata": {
        "id": "tnDwKv3O93nY",
        "colab_type": "code",
        "outputId": "e0bac2bb-6a67-443e-ee8d-3fe62349b058",
        "colab": {
          "base_uri": "https://localhost:8080/",
          "height": 464
        }
      },
      "source": [
        "# Plot the predictive quality of kills \n",
        "x_all = get_sample(train, 100000)\n",
        "ggplot(x_all, aes('kills','winPlacePerc'))+stat_smooth(se=True, colour='red', method='mavg')\n"
      ],
      "execution_count": 17,
      "outputs": [
        {
          "output_type": "display_data",
          "data": {
            "image/png": "[encoded data removed]",
            "text/plain": [
              "<Figure size 640x480 with 1 Axes>"
            ]
          },
          "metadata": {
            "tags": []
          }
        },
        {
          "output_type": "execute_result",
          "data": {
            "text/plain": [
              "<ggplot: (-9223363302537203147)>"
            ]
          },
          "metadata": {
            "tags": []
          },
          "execution_count": 17
        }
      ]
    },
    {
      "cell_type": "code",
      "metadata": {
        "id": "ORb32pvi-FYZ",
        "colab_type": "code",
        "colab": {}
      },
      "source": [
        "# Prepare data\n",
        "val_perc_full = 0.12 # % to use for validation set\n",
        "n_valid_full = int(val_perc_full * len(train)) \n",
        "n_trn_full = len(train)-n_valid_full\n",
        "df_full = train.drop(columns = ['winPlacePerc']) # all columns except target\n",
        "y = train['winPlacePerc'] # target variable\n",
        "df_full = df_full[to_keep] # Keep only relevant features\n",
        "X_train, X_valid = split_vals(df_full, n_trn_full)\n",
        "y_train, y_valid = split_vals(y, n_trn_full)\n",
        "\n"
      ],
      "execution_count": 0,
      "outputs": []
    },
    {
      "cell_type": "code",
      "metadata": {
        "id": "fdz-xfyp-PYp",
        "colab_type": "code",
        "outputId": "b908ec0b-3920-47bb-854f-8a9c4a7e25bb",
        "colab": {
          "base_uri": "https://localhost:8080/",
          "height": 34
        }
      },
      "source": [
        "# Train final model\n",
        "# You should get better results by increasing n_estimators\n",
        "# and by playing around with the parameters\n",
        "m3 = RandomForestRegressor(n_estimators=3, min_samples_leaf=3, max_features=0.5,\n",
        "                          n_jobs=-1)\n",
        "m3.fit(X_train, y_train)\n",
        "print_score(m3)"
      ],
      "execution_count": 19,
      "outputs": [
        {
          "output_type": "stream",
          "text": [
            "['mae train: ', 0.03737388305834795, 'mae val: ', 0.06258677243428519]\n"
          ],
          "name": "stdout"
        }
      ]
    },
    {
      "cell_type": "code",
      "metadata": {
        "id": "0BtsVpLnRfMT",
        "colab_type": "code",
        "outputId": "67c9c9f7-8135-4321-ed51-15ac3fe5cbd2",
        "colab": {
          "base_uri": "https://localhost:8080/",
          "height": 425
        }
      },
      "source": [
        "# Add engineered features to the test set\n",
        "test['headshot_rate'] = test['headshotKills'] / test['kills']\n",
        "test['headshot_rate'] = test['headshot_rate'].fillna(0)\n",
        "test['totalDistance'] = test['rideDistance'] + test['walkDistance'] + test['swimDistance']\n",
        "test['playersJoined'] = test.groupby('matchId')['matchId'].transform('count')\n",
        "test['killsNorm'] = test['kills']*((100-test['playersJoined'])/100 + 1)\n",
        "test['damageDealtNorm'] = test['damageDealt']*((100-test['playersJoined'])/100 + 1)\n",
        "test['maxPlaceNorm'] = test['maxPlace']*((100-train['playersJoined'])/100 + 1)\n",
        "test['matchDurationNorm'] = test['matchDuration']*((100-test['playersJoined'])/100 + 1)\n",
        "test['healsandboosts'] = test['heals'] + test['boosts']\n",
        "test['killsWithoutMoving'] = ((test['kills'] > 0) & (test['totalDistance'] == 0))\n",
        "\n",
        "# Turn groupId and match Id into categorical types\n",
        "test['groupId'] = test['groupId'].astype('category')\n",
        "test['matchId'] = test['matchId'].astype('category')\n",
        "\n",
        "# Get category coding for groupId and matchID\n",
        "test['groupId_cat'] = test['groupId'].cat.codes\n",
        "test['matchId_cat'] = test['matchId'].cat.codes\n",
        "\n",
        "# Remove irrelevant features from the test set\n",
        "test_pred = test[to_keep].copy()\n",
        "\n",
        "# Fill NaN with 0 (temporary)\n",
        "test_pred.fillna(0, inplace=True)\n",
        "test_pred.head()# Make submission ready for Kaggle\n",
        "# We use our final Random Forest model (m3) to get the predictions\n",
        "predictions = np.clip(a = m3.predict(test_pred), a_min = 0.0, a_max = 1.0)\n",
        "pred_df = pd.DataFrame({'Id' : test['Id'], 'winPlacePerc' : predictions})\n",
        "\n",
        "# Create submission file\n",
        "pred_df.to_csv(\"submission_V2.csv\", index=False)\n",
        "# Last check of submission\n",
        "print('Head of submission: ')\n",
        "display(pred_df.head())\n",
        "print('Tail of submission: ')\n",
        "display(pred_df.tail())\n"
      ],
      "execution_count": 20,
      "outputs": [
        {
          "output_type": "stream",
          "text": [
            "Head of submission: \n"
          ],
          "name": "stdout"
        },
        {
          "output_type": "display_data",
          "data": {
            "text/html": [
              "<div>\n",
              "<style scoped>\n",
              "    .dataframe tbody tr th:only-of-type {\n",
              "        vertical-align: middle;\n",
              "    }\n",
              "\n",
              "    .dataframe tbody tr th {\n",
              "        vertical-align: top;\n",
              "    }\n",
              "\n",
              "    .dataframe thead th {\n",
              "        text-align: right;\n",
              "    }\n",
              "</style>\n",
              "<table border=\"1\" class=\"dataframe\">\n",
              "  <thead>\n",
              "    <tr style=\"text-align: right;\">\n",
              "      <th></th>\n",
              "      <th>Id</th>\n",
              "      <th>winPlacePerc</th>\n",
              "    </tr>\n",
              "  </thead>\n",
              "  <tbody>\n",
              "    <tr>\n",
              "      <th>0</th>\n",
              "      <td>9329eb41e215eb</td>\n",
              "      <td>0.219043</td>\n",
              "    </tr>\n",
              "    <tr>\n",
              "      <th>1</th>\n",
              "      <td>639bd0dcd7bda8</td>\n",
              "      <td>0.868730</td>\n",
              "    </tr>\n",
              "    <tr>\n",
              "      <th>2</th>\n",
              "      <td>63d5c8ef8dfe91</td>\n",
              "      <td>0.715087</td>\n",
              "    </tr>\n",
              "    <tr>\n",
              "      <th>3</th>\n",
              "      <td>cf5b81422591d1</td>\n",
              "      <td>0.514581</td>\n",
              "    </tr>\n",
              "    <tr>\n",
              "      <th>4</th>\n",
              "      <td>ee6a295187ba21</td>\n",
              "      <td>0.934967</td>\n",
              "    </tr>\n",
              "  </tbody>\n",
              "</table>\n",
              "</div>"
            ],
            "text/plain": [
              "               Id  winPlacePerc\n",
              "0  9329eb41e215eb      0.219043\n",
              "1  639bd0dcd7bda8      0.868730\n",
              "2  63d5c8ef8dfe91      0.715087\n",
              "3  cf5b81422591d1      0.514581\n",
              "4  ee6a295187ba21      0.934967"
            ]
          },
          "metadata": {
            "tags": []
          }
        },
        {
          "output_type": "stream",
          "text": [
            "Tail of submission: \n"
          ],
          "name": "stdout"
        },
        {
          "output_type": "display_data",
          "data": {
            "text/html": [
              "<div>\n",
              "<style scoped>\n",
              "    .dataframe tbody tr th:only-of-type {\n",
              "        vertical-align: middle;\n",
              "    }\n",
              "\n",
              "    .dataframe tbody tr th {\n",
              "        vertical-align: top;\n",
              "    }\n",
              "\n",
              "    .dataframe thead th {\n",
              "        text-align: right;\n",
              "    }\n",
              "</style>\n",
              "<table border=\"1\" class=\"dataframe\">\n",
              "  <thead>\n",
              "    <tr style=\"text-align: right;\">\n",
              "      <th></th>\n",
              "      <th>Id</th>\n",
              "      <th>winPlacePerc</th>\n",
              "    </tr>\n",
              "  </thead>\n",
              "  <tbody>\n",
              "    <tr>\n",
              "      <th>1934169</th>\n",
              "      <td>a316c3a13887d5</td>\n",
              "      <td>0.834046</td>\n",
              "    </tr>\n",
              "    <tr>\n",
              "      <th>1934170</th>\n",
              "      <td>5312146b27d875</td>\n",
              "      <td>0.437627</td>\n",
              "    </tr>\n",
              "    <tr>\n",
              "      <th>1934171</th>\n",
              "      <td>fc8818b5b32ad3</td>\n",
              "      <td>0.904451</td>\n",
              "    </tr>\n",
              "    <tr>\n",
              "      <th>1934172</th>\n",
              "      <td>a0f91e35f8458f</td>\n",
              "      <td>0.823538</td>\n",
              "    </tr>\n",
              "    <tr>\n",
              "      <th>1934173</th>\n",
              "      <td>3696fc9f3a42b2</td>\n",
              "      <td>0.012079</td>\n",
              "    </tr>\n",
              "  </tbody>\n",
              "</table>\n",
              "</div>"
            ],
            "text/plain": [
              "                     Id  winPlacePerc\n",
              "1934169  a316c3a13887d5      0.834046\n",
              "1934170  5312146b27d875      0.437627\n",
              "1934171  fc8818b5b32ad3      0.904451\n",
              "1934172  a0f91e35f8458f      0.823538\n",
              "1934173  3696fc9f3a42b2      0.012079"
            ]
          },
          "metadata": {
            "tags": []
          }
        }
      ]
    }
  ]
}